{
 "cells": [
  {
   "cell_type": "code",
   "execution_count": null,
   "id": "8d2a1efc-920b-4bcb-8ec3-253f9cce3451",
   "metadata": {},
   "outputs": [],
   "source": [
    "import GenData\n",
    "from CountEpochs import count_epochs\n",
    "import glob\n",
    "import pickle\n",
    "import numpy as np\n",
    "import pandas as pd\n",
    "import mne\n",
    "import pyedflib\n",
    "from pyedflib import FILETYPE_BDF, FILETYPE_BDFPLUS, FILETYPE_EDF, FILETYPE_EDFPLUS\n",
    "# GenData.py file includes function for synthetic data generation and can be executed only for extraction of the recordings\n",
    "# The step of extracting recordings from files was adapted to be able apply it to dofferent datasets"
   ]
  },
  {
   "cell_type": "markdown",
   "id": "319cf343-90db-4f91-9a1c-0c27559f2eb7",
   "metadata": {},
   "source": [
    "# WESA dataset"
   ]
  },
  {
   "cell_type": "code",
   "execution_count": null,
   "id": "33a51c6c-1c1e-415a-b8ca-3a90ebcd4282",
   "metadata": {},
   "outputs": [],
   "source": [
    "# all available WESA data is planned for test split\n",
    "wesa_data_path = \"Path\\\\to\\\\load\\\\the\\\\data\"\n",
    "wesa_gt_path = \"Path\\\\to\\\\load\\\\the\\\\ground_truth\"\n",
    "\n",
    "wesa_data = glob.glob(wesa_data_path)\n",
    "wesa_gt = glob.glob(wesa_gt_path)\n",
    "test_eegs, test_emgs, test_eogs, subjects_test = GenData.extract_eeg_emg_eog(wesa_data, _, wesa_gt, seg_len=30, fs=250, marker = 'WESA')"
   ]
  },
  {
   "cell_type": "code",
   "execution_count": null,
   "id": "f5163887-88d2-42c8-9300-4f31afb257cc",
   "metadata": {},
   "outputs": [],
   "source": [
    "ori_test_eegs = {}\n",
    "ori_test_emgs = {}\n",
    "ori_test_eogs = {}\n",
    "\n",
    "for jj in range(len(subjects_test)):\n",
    "    ori_test_eegs[subjects_test[jj]] = test_eegs[jj]\n",
    "    ori_test_emgs[subjects_test[jj]] = test_emgs[jj]\n",
    "    ori_test_eogs[subjects_test[jj]] = test_eogs[jj]"
   ]
  },
  {
   "cell_type": "code",
   "execution_count": null,
   "id": "f064d446-b2bd-425f-8fee-0f7bd3d40a1a",
   "metadata": {},
   "outputs": [],
   "source": [
    "ori_test_eegs = {'ori_test_eegs': ori_test_eegs}\n",
    "ori_test_emgs = {'ori_test_emgs': ori_test_emgs}\n",
    "ori_test_eogs = {'ori_test_eogs': ori_test_eogs}\n"
   ]
  },
  {
   "cell_type": "code",
   "execution_count": null,
   "id": "14369526-97e8-4d17-9b10-6f4771e22403",
   "metadata": {},
   "outputs": [],
   "source": [
    "test = [ori_test_eegs, ori_test_emgs, ori_test_eogs]\n",
    "with open('save_test_pkl.pkl', 'wb') as f:\n",
    "    pickle.dump(test, f)"
   ]
  },
  {
   "cell_type": "markdown",
   "id": "cbd2e85f-ae91-4b13-85b3-9a7cee3b78fd",
   "metadata": {},
   "source": [
    "# MASS dataset"
   ]
  },
  {
   "cell_type": "code",
   "execution_count": null,
   "id": "f6923618-895a-424c-92c8-832e390b1fbd",
   "metadata": {},
   "outputs": [],
   "source": [
    "mass_data_path = \"Path\\\\to\\\\load\\\\the\\\\data\"\n",
    "mass_gt_path = \"Path\\\\to\\\\load\\\\the\\\\data\\\\ground_truth\"\n",
    "mass_data_folders = glob.glob(mass_data_path)\n",
    "mass_gt_folders = glob.glob(mass_gt_path)\n",
    "\n",
    "# age matched\n",
    "mass_data_am = glob.glob(mass_data_folders[0]+'\\\\*PSG.edf')\n",
    "mass_gt_am = glob.glob(mass_gt_folders[0]+'\\\\*.txt')\n",
    "\n",
    "# rest\n",
    "mass_data = glob.glob(mass_data_folders[1]+'\\\\*PSG.edf') + glob.glob(mass_data_folders[2]+'\\\\*PSG.edf') + \\\n",
    "    glob.glob(mass_data_folders[4]+'\\\\*PSG.edf')\n",
    "mass_gt = glob.glob(mass_gt_folders[1]+'\\\\*.txt') + glob.glob(mass_gt_folders[2]+'\\\\*.txt') + \\\n",
    "    glob.glob(mass_gt_folders[4]+'\\\\*.txt')\n",
    "\n",
    "# ss4\n",
    "mass_data_ss4 = glob.glob(mass_data_folders[3]+'\\\\*PSG.edf')\n",
    "mass_gt_ss4 = glob.glob(mass_gt_folders[3]+'\\\\*.txt')\n",
    "\n",
    "mass_sub = []\n",
    "rem_epochs_num_mass = [174, 197, 182, 108, 93, 15, 191, 100, 101, 104, 123, 72, 252, 131, 131, 82, 55, 106, 133, 141, \\\n",
    "  151, 109, 94, 108, 155, 138, 173, 128, 117, 24, 157, 103, 167, 124, 142, 202, 36, 95, 183, 122, 156, 22, 128, 145, 73, 165, 88, 106, 91, 75, 73, 126, 99]\n",
    "\n",
    "for jj in mass_data_am:\n",
    "    end_ = jj.find('PSG.edf')\n",
    "    mass_sub.append(jj[end_-11:end_-1])\n",
    "\n",
    "vali_, test_ = GenData.data_split(mass_sub, rem_epochs_num_mass, name='hc_subj')\n",
    "\n",
    "vali_gt = []\n",
    "test_gt = []\n",
    "for ii in mass_gt_am:\n",
    "    vali_gt = vali_gt + [ii for x in vali_['hc_subj'] if x in ii]\n",
    "    test_gt = test_gt + [ii for x in test_['hc_subj'] if x in ii]\n",
    "    \n",
    "vali_mass = []\n",
    "test_mass = []\n",
    "for ii in mass_data_am:\n",
    "    vali_mass = vali_mass + [ii for x in vali_['hc_subj'] if x in ii]\n",
    "    test_mass = test_mass + [ii for x in test_['hc_subj'] if x in ii]"
   ]
  },
  {
   "cell_type": "code",
   "execution_count": null,
   "id": "15a3741c-108a-427d-b941-3d946b062cb6",
   "metadata": {},
   "outputs": [],
   "source": [
    "print('Training')\n",
    "train_eegs, train_emgs, train_eogs, subjects_train = GenData.extract_eeg_emg_eog(mass_data, _, mass_gt, seg_len=30, fs=250, marker = 'MASS')\n",
    "print('Validation')\n",
    "vali_eegs, vali_emgs, vali_eogs, subjects_vali = GenData.extract_eeg_emg_eog(vali_mass, _, vali_gt, seg_len=30, fs=250, marker = 'MASS')\n",
    "print('Test')\n",
    "test_eegs, test_emgs, test_eogs, subjects_test = GenData.extract_eeg_emg_eog(test_mass, _, test_gt, seg_len=30, fs=250, marker = 'MASS')"
   ]
  },
  {
   "cell_type": "code",
   "execution_count": null,
   "id": "7cdeee22-09d8-45d9-b5dc-8866491a0a1b",
   "metadata": {},
   "outputs": [],
   "source": [
    "ori_train_eegs = {}\n",
    "ori_train_emgs = {}\n",
    "ori_train_eogs = {}\n",
    "\n",
    "for jj in range(len(subjects_train)):\n",
    "    ori_train_eegs[subjects_train[jj]] = train_eegs[jj]\n",
    "    ori_train_emgs[subjects_train[jj]] = train_emgs[jj]\n",
    "    ori_train_eogs[subjects_train[jj]] = train_eogs[jj]\n",
    "\n",
    "ori_train_eegs = {'ori_train_eegs': ori_train_eegs}\n",
    "ori_train_emgs = {'ori_train_emgs': ori_train_emgs}\n",
    "ori_train_eogs = {'ori_train_eogs': ori_train_eogs}\n",
    "\n",
    "train = [ori_train_eegs, ori_train_emgs, ori_train_eogs]\n",
    "\n",
    "with open('save_train_pkl.pkl', 'wb') as f:\n",
    "    pickle.dump(train, f)"
   ]
  },
  {
   "cell_type": "code",
   "execution_count": null,
   "id": "8574c9b0-1700-4589-b4ac-f9ef1236ba49",
   "metadata": {},
   "outputs": [],
   "source": [
    "ori_val_eegs = {}\n",
    "ori_val_emgs = {}\n",
    "ori_val_eogs = {}\n",
    "\n",
    "for jj in range(len(subjects_vali)):\n",
    "    ori_val_eegs[subjects_vali[jj]] = vali_eegs[jj]\n",
    "    ori_val_emgs[subjects_vali[jj]] = vali_emgs[jj]\n",
    "    ori_val_eogs[subjects_vali[jj]] = vali_eogs[jj]\n",
    "\n",
    "ori_val_eegs = {'ori_val_eegs': ori_val_eegs}\n",
    "ori_val_emgs = {'ori_val_emgs': ori_val_emgs}\n",
    "ori_val_eogs = {'ori_val_eogs': ori_val_eogs}\n",
    "\n",
    "val = [ori_val_eegs, ori_val_emgs, ori_val_eogs]\n",
    "\n",
    "with open('save_val_pkl.pkl', 'wb') as f:\n",
    "    pickle.dump(val, f)"
   ]
  },
  {
   "cell_type": "code",
   "execution_count": null,
   "id": "bbe0ce99-ea79-40a4-88b7-ac36e56cc179",
   "metadata": {},
   "outputs": [],
   "source": [
    "ori_test_eegs = {}\n",
    "ori_test_emgs = {}\n",
    "ori_test_eogs = {}\n",
    "\n",
    "for jj in range(len(subjects_test)):\n",
    "    ori_test_eegs[subjects_test[jj]] = test_eegs[jj]\n",
    "    ori_test_emgs[subjects_test[jj]] = test_emgs[jj]\n",
    "    ori_test_eogs[subjects_test[jj]] = test_eogs[jj]\n",
    "\n",
    "ori_test_eegs = {'ori_test_eegs': ori_test_eegs}\n",
    "ori_test_emgs = {'ori_test_emgs': ori_test_emgs}\n",
    "ori_test_eogs = {'ori_test_eogs': ori_test_eogs}\n",
    "\n",
    "test = [ori_test_eegs, ori_test_emgs, ori_test_eogs]\n",
    "\n",
    "with open('save_test_pkl.pkl', 'wb') as f:\n",
    "    pickle.dump(test, f)"
   ]
  },
  {
   "cell_type": "markdown",
   "id": "cfb3404c-a5af-463d-9531-c0a3bcadb9a2",
   "metadata": {},
   "source": [
    "# CAP dataset"
   ]
  },
  {
   "cell_type": "code",
   "execution_count": null,
   "id": "eceeec82-457f-4b2a-970f-aec254a78923",
   "metadata": {},
   "outputs": [],
   "source": [
    "cap_data_path = \"Path\\\\to\\\\load\\\\the\\\\data\"\n",
    "cap_gt_path = \"Path\\\\to\\\\load\\\\the\\\\geround_truth\" \n",
    "\n",
    "cap_data = glob.glob(cap_data_path)\n",
    "cap_gt = glob.glob(cap_gt_path)\n",
    "\n",
    "rbd_sub = [\"rbd2\", \"rbd3\", \"rbd4\", \"rbd5\", \"rbd7\", \"rbd8\", \"rbd9\", \"rbd10\", \"rbd12\",\n",
    "           \"rbd13\", \"rbd14\", \"rbd16\", \"rbd17\", \"rbd18\", \"rbd19\", \"rbd20\", \"rbd21\", \"rbd22\"]\n",
    "rem_epochs_num = [182, 127, 293, 164, 66, 144, 206, 83, 160, 200, 298, 115, 139, 94, 138, 185, 129, 300]"
   ]
  },
  {
   "cell_type": "code",
   "execution_count": null,
   "id": "becd1104-dcf1-40da-a0c0-27e34e6a5fd2",
   "metadata": {},
   "outputs": [],
   "source": [
    "train_cap, valid_cap, test_cap = GenData.data_split(rbd_sub, rem_epochs_num)\n",
    "test_eegs, test_emgs, test_eogs, subjects_test = GenData.extract_eeg_emg_eog(test_cap['rbd_subj'], cap_data, cap_gt, seg_len = 30, fs = 250, marker = 'CAP')\n",
    "val_eegs, val_emgs, val_eogs, subjects_val = GenData.extract_eeg_emg_eog(valid_cap['rbd_subj'], cap_data, cap_gt, seg_len = 30, fs = 250, marker = 'CAP')\n",
    "train_eegs, train_emgs, train_eogs, subjects_train = GenData.extract_eeg_emg_eog(train_cap['rbd_subj'], cap_data, cap_gt, seg_len = 30, fs = 250, marker = 'CAP')"
   ]
  },
  {
   "cell_type": "code",
   "execution_count": null,
   "id": "d841d2c5-fe8e-46ae-b882-2ac1bd993ae6",
   "metadata": {},
   "outputs": [],
   "source": [
    "# for train split ~15 subjects are going to be generated from one reference subj\n",
    "# for validation split ~6.5 subjects are going to be generated from one reference subj\n",
    "rem_epochs_num = np.array(rem_epochs_num)\n",
    "rem_epochs_num_new = (rem_epochs_num*30-15)//15\n",
    "med = np.mean(rem_epochs_num_new)\n",
    "num_epochs_train = int(np.round(med * 12.8))\n",
    "num_epochs_val = int(np.round(med * 7.9)) \n",
    "\n",
    "global_min, global_max = min(rem_epochs_num_new), max(rem_epochs_num_new)"
   ]
  },
  {
   "cell_type": "code",
   "execution_count": null,
   "id": "494bbc7c-4fda-4377-8594-4553094cce81",
   "metadata": {},
   "outputs": [],
   "source": [
    "# oversampling training data\n",
    "X_train_eegs, y_train_eegs, ind_train = GenData.oversample(train_eegs, syn_num = num_epochs_train)\n",
    "X_train_emgs, y_train_emgs, _ = GenData.oversample(train_emgs, syn_num = num_epochs_train)\n",
    "X_train_eogs, y_train_eogs, _ = GenData.oversample(train_eogs, syn_num = num_epochs_train)\n",
    "# oversampling validation data\n",
    "X_val_eegs, y_val_eegs, ind_val = GenData.oversample(val_eegs, syn_num = num_epochs_val)\n",
    "X_val_emgs, y_val_emgs, _ = GenData.oversample(val_emgs, syn_num = num_epochs_val)\n",
    "X_val_eogs, y_val_eogs, _ = GenData.oversample(val_eogs, syn_num = num_epochs_val)"
   ]
  },
  {
   "cell_type": "code",
   "execution_count": null,
   "id": "f2697a5a-e0a2-421d-9bc9-deb95b2d72be",
   "metadata": {},
   "outputs": [],
   "source": [
    "ori_test_eegs = {}\n",
    "ori_test_emgs = {}\n",
    "ori_test_eogs = {}\n",
    "\n",
    "for jj, sub in enumerate(subjects_test):\n",
    "    ori_test_eegs[sub] = test_eegs[jj]\n",
    "    ori_test_emgs[sub] = test_eegs[jj]\n",
    "    ori_test_eogs[sub] = test_eegs[jj]"
   ]
  },
  {
   "cell_type": "code",
   "execution_count": null,
   "id": "255c07a6-c302-4610-8ba9-9633b9489f2c",
   "metadata": {},
   "outputs": [],
   "source": [
    "ori_train_eegs, syn_train_eegs = GenData.group_data(ind_train, X_train_eegs, y_train_eegs, subjects_train, global_min, global_max, mode = 'train')\n",
    "ori_train_emgs, syn_train_emgs = GenData.group_data(ind_train, X_train_emgs, y_train_emgs, subjects_train, global_min, global_max, mode = 'train')\n",
    "ori_train_eogs, syn_train_eogs = GenData.group_data(ind_train, X_train_eogs, y_train_eogs, subjects_train, global_min, global_max, mode = 'train')\n",
    "\n",
    "ori_val_eegs, syn_val_eegs = GenData.group_data(ind_val, X_val_eegs, y_val_eegs, subjects_val, global_min, global_max, mode = 'val')\n",
    "ori_val_emgs, syn_val_emgs = GenData.group_data(ind_val, X_val_emgs, y_val_emgs, subjects_val, global_min, global_max, mode = 'val')\n",
    "ori_val_eogs, syn_val_eogs = GenData.group_data(ind_val, X_val_eogs, y_val_eogs, subjects_val, global_min, global_max, mode = 'val')"
   ]
  },
  {
   "cell_type": "code",
   "execution_count": null,
   "id": "17ad6aeb-dc60-43b6-be5c-9e213187b1ad",
   "metadata": {},
   "outputs": [],
   "source": [
    "for key in syn_train_eegs.keys():\n",
    "    print(key, len(syn_train_eegs[key]))\n",
    "\n",
    "print('_______')\n",
    "for key in syn_val_eegs.keys():\n",
    "    print(key, len(syn_val_eegs[key]))"
   ]
  },
  {
   "cell_type": "code",
   "execution_count": null,
   "id": "7e728e76-d4c9-4a38-af88-7bba4e2c1e77",
   "metadata": {},
   "outputs": [],
   "source": [
    "# fix the dictionaries (added later in time)\n",
    "syn_val_eegs_v2 = {}\n",
    "syn_val_emgs_v2 = {}\n",
    "syn_val_eogs_v2 = {}\n",
    "syn_train_eegs_v2 = {}\n",
    "syn_train_emgs_v2 = {}\n",
    "syn_train_eogs_v2 = {}\n",
    "\n",
    "def new_dict(new_dic, old_dic):\n",
    "    for key in old_dic.keys():\n",
    "        num = len(old_dic[key])\n",
    "        for i in range(num):\n",
    "            new_dic[f'{key}_syn{i+1}'] = old_dic[key][i]\n",
    "\n",
    "new_dict(syn_val_eegs_v2, syn_val_eegs)\n",
    "new_dict(syn_val_emgs_v2, syn_val_emgs)\n",
    "new_dict(syn_val_eogs_v2, syn_val_eogs)\n",
    "\n",
    "new_dict(syn_train_eegs_v2, syn_train_eegs)\n",
    "new_dict(syn_train_emgs_v2, syn_train_emgs)\n",
    "new_dict(syn_train_eogs_v2, syn_train_eogs)"
   ]
  },
  {
   "cell_type": "code",
   "execution_count": null,
   "id": "665b395b-c0f7-4d7c-8ae7-650267265433",
   "metadata": {},
   "outputs": [],
   "source": [
    "ori_test_eegs = {'ori_test_eegs': ori_test_eegs}\n",
    "ori_test_emgs = {'ori_test_emgs': ori_test_emgs}\n",
    "ori_test_eogs = {'ori_test_eogs': ori_test_eogs}"
   ]
  },
  {
   "cell_type": "code",
   "execution_count": null,
   "id": "da69bd1f-c677-4607-a854-f4975b8810ed",
   "metadata": {},
   "outputs": [],
   "source": [
    "ori_val_eegs = {'ori_val_eegs': ori_val_eegs}\n",
    "ori_val_emgs = {'ori_val_emgs': ori_val_emgs}\n",
    "ori_val_eogs = {'ori_val_eogs': ori_val_eogs}\n",
    "syn_val_eegs = {'syn_val_eegs': syn_val_eegs_v2}\n",
    "syn_val_emgs = {'syn_val_emgs': syn_val_emgs_v2}\n",
    "syn_val_eogs = {'syn_val_eogs': syn_val_eogs_v2}\n",
    "\n",
    "ori_train_eegs = {'ori_train_eegs': ori_train_eegs}\n",
    "ori_train_emgs = {'ori_train_emgs': ori_train_emgs}\n",
    "ori_train_eogs = {'ori_train_eogs': ori_train_eogs}\n",
    "syn_train_eegs = {'syn_train_eegs': syn_train_eegs_v2}\n",
    "syn_train_emgs = {'syn_train_emgs': syn_train_emgs_v2}\n",
    "syn_train_eogs = {'syn_train_eogs': syn_train_eogs_v2}\n",
    "\n",
    "test = [ori_test_eegs, ori_test_emgs, ori_test_eogs]\n",
    "val = [ori_val_eegs, ori_val_emgs, ori_val_eogs, syn_val_eegs, syn_val_emgs, syn_val_eogs]\n",
    "train = [ori_train_eegs, ori_train_emgs, ori_train_eogs, syn_train_eegs, syn_train_emgs, syn_train_eogs]"
   ]
  },
  {
   "cell_type": "code",
   "execution_count": null,
   "id": "d50c057c-4e7e-43a7-928a-41e90d8273f1",
   "metadata": {},
   "outputs": [],
   "source": [
    "test = [ori_test_eegs, ori_test_emgs, ori_test_eogs]\n",
    "with open('save_test_pkl', 'wb') as f:\n",
    "    pickle.dump(test, f)"
   ]
  },
  {
   "cell_type": "code",
   "execution_count": null,
   "id": "9550aac3-6d14-4f01-8fae-7a5464f53b95",
   "metadata": {},
   "outputs": [],
   "source": [
    "with open('save_val_pkl.pkl', 'wb') as f:\n",
    "    pickle.dump(val, f)"
   ]
  },
  {
   "cell_type": "code",
   "execution_count": null,
   "id": "72cf8e30-a641-446e-ac77-582ad5068bbb",
   "metadata": {},
   "outputs": [],
   "source": [
    "with open('save_train_pkl.pkl', 'wb') as f:\n",
    "    pickle.dump(train, f)"
   ]
  }
 ],
 "metadata": {
  "kernelspec": {
   "display_name": "Python 3 (ipykernel)",
   "language": "python",
   "name": "python3"
  },
  "language_info": {
   "codemirror_mode": {
    "name": "ipython",
    "version": 3
   },
   "file_extension": ".py",
   "mimetype": "text/x-python",
   "name": "python",
   "nbconvert_exporter": "python",
   "pygments_lexer": "ipython3",
   "version": "3.9.19"
  }
 },
 "nbformat": 4,
 "nbformat_minor": 5
}

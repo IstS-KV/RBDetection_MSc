{
 "cells": [
  {
   "cell_type": "code",
   "execution_count": 4,
   "id": "470bd361-708c-422c-8ed0-3e10355987e3",
   "metadata": {},
   "outputs": [],
   "source": [
    "import scipy.io\n",
    "import numpy as np\n",
    "import pyedflib \n",
    "import os\n",
    "import glob\n",
    "import h5py\n",
    "import mne\n",
    "# import edfio\n",
    "import pandas as pd\n",
    "from pyedflib import FILETYPE_BDF, FILETYPE_BDFPLUS, FILETYPE_EDF, FILETYPE_EDFPLUS\n",
    "import GenData"
   ]
  },
  {
   "cell_type": "markdown",
   "id": "e4b5072e",
   "metadata": {},
   "source": [
    "JUST AN EXAMPLE"
   ]
  },
  {
   "cell_type": "code",
   "execution_count": null,
   "id": "d55437de-4fd5-436a-a32f-a3bfdcf98344",
   "metadata": {},
   "outputs": [],
   "source": [
    "# all available WESA data is planned for test split\n",
    "data_path = 'C:\\\\Users\\\\MLaccount\\\\projects\\\\Data\\\\WESA HC\\\\*.mat'\n",
    "gt_path = 'C:\\\\Users\\\\MLaccount\\\\projects\\\\RBD\\\\SS_ground_truth\\\\WESA\\\\*.txt'\n",
    "\n",
    "data = glob.glob(data_path)\n",
    "gt = glob.glob(gt_path)\n",
    "test_eegs, test_emgs, test_eogs, subjects_test = GenData.extract_eeg_emg_eog(data, _, gt, seg_len=30, fs=250, marker = 'WESA')"
   ]
  },
  {
   "cell_type": "code",
   "execution_count": null,
   "id": "502ade0f",
   "metadata": {},
   "outputs": [],
   "source": [
    "# SAVE SIGNALS BACK TO EDF FILE ONLY WITH RELEVANT CHANNELS\n",
    "for jj in range(len(test_eegs)):\n",
    "    data = {}\n",
    "    \n",
    "    data['EEG'] = np.reshape(test_eegs[jj], (7500*len(test_eegs[jj])))\n",
    "    data['EMG'] = np.reshape(test_emgs[jj], (7500*len(test_emgs[jj])))\n",
    "    data['EOG'] = np.reshape(test_eogs[jj], (7500*len(test_eogs[jj])))\n",
    "    \n",
    "    data_df = pd.DataFrame({k: pd.Series(v) for k, v in data.items()})\n",
    "    data_np = np.round(data_df.to_numpy(dtype=np.float64), 4)\n",
    "    print(np.min(data_np), np.max(data_np))\n",
    "    # data_np = data_np/1e6\n",
    "    # print(data_np)\n",
    "    \n",
    "    info = mne.create_info(ch_names=['EEG', 'EMG', 'EOG'], sfreq=250, ch_types=['eeg', 'emg', 'eog'])\n",
    "    \n",
    "    raw = mne.io.RawArray(data_np.T, info)\n",
    "    \n",
    "    n_channels = len(raw.get_data())\n",
    "    channels = raw.get_data()\n",
    "    print(np.min(channels), np.max(channels))\n",
    "    \n",
    "    file_type = FILETYPE_EDF\n",
    "    f = pyedflib.EdfWriter(f'{subjects_test[jj]}.edf', n_channels=n_channels, file_type=file_type)\n",
    "    \n",
    "    dmin, dmax = -32768, 32767 \n",
    "    sfreq = raw.info['sfreq']\n",
    "    channel_info = []\n",
    "    \n",
    "    ch_idx = range(n_channels) \n",
    "    for i in ch_idx:\n",
    "        ch_dict = {'label': raw.ch_names[i], \n",
    "                   'dimension': 'uV',\n",
    "                   'sample_rate': sfreq, \n",
    "                   'physical_min': channels.min(), \n",
    "                   'physical_max': channels.max(), \n",
    "                   'digital_min':  dmin, \n",
    "                   'digital_max':  dmax, \n",
    "                   'transducer': '', \n",
    "                   'prefilter': ''}\n",
    "    \n",
    "        channel_info.append(ch_dict)\n",
    "    \n",
    "    f.setSignalHeaders(channel_info)\n",
    "    f.writeSamples(channels)\n",
    "    f.close()"
   ]
  }
 ],
 "metadata": {
  "kernelspec": {
   "display_name": "Python 3 (ipykernel)",
   "language": "python",
   "name": "python3"
  },
  "language_info": {
   "codemirror_mode": {
    "name": "ipython",
    "version": 3
   },
   "file_extension": ".py",
   "mimetype": "text/x-python",
   "name": "python",
   "nbconvert_exporter": "python",
   "pygments_lexer": "ipython3",
   "version": "3.9.19"
  }
 },
 "nbformat": 4,
 "nbformat_minor": 5
}
